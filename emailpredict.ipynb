{
 "cells": [
  {
   "cell_type": "markdown",
   "metadata": {
    "id": "tuXv0vOmu79G"
   },
   "source": [
    "IMORTING THE DEPENDENCIES\n",
    "Means importing the Libraries and function\n",
    "\n"
   ]
  },
  {
   "cell_type": "code",
   "execution_count": 1,
   "metadata": {
    "id": "PbImNSMxvVoA"
   },
   "outputs": [],
   "source": [
    "import numpy as np\n",
    "#\n",
    "import pandas as pd\n",
    "from sklearn.model_selection import train_test_split\n",
    "# import train_test_split, because we need to split or dataset into \n",
    "# ttraining data and testing data  spo thats why we need train_test_split function\n",
    "from sklearn.feature_extraction.text import TfidfVectorizer\n",
    "# import TfidfVectorizer for converting text data(mail data) into numeric values\n",
    "# so will convert them into meaningful numbers\n",
    "#  so that are our machine learning model can understand it\n",
    "# IF you just feed the data or do not covert the data into numeric values, \n",
    "# the machine learning model wont understand\n",
    "\n",
    "# now will import logistics regression function\n",
    "from sklearn.linear_model import LogisticRegression\n",
    "# we are using logistic regression model to classify spam mail or ham mail\n",
    "from sklearn.metrics import accuracy_score\n",
    "# as we know before we have split data into training data and testing data\n",
    "# and this training data will be used to train our Logistic Regression Model\n",
    "# and once we do that will use our test data inorder to evaluate our model\n",
    "# for this reason we are importing accuracy_score function\n",
    "# this Accuracy score is used to find that how well are model is performing\n",
    "# and how many good predictions its making\n"
   ]
  },
  {
   "cell_type": "markdown",
   "metadata": {
    "id": "V5UrtUSD2DIo"
   },
   "source": [
    "Data Collection And Pre-Processing"
   ]
  },
  {
   "cell_type": "code",
   "execution_count": 3,
   "metadata": {
    "id": "lNSMzpDsvJv3"
   },
   "outputs": [],
   "source": [
    "# 1.so first will load the data (mail_data) from that csv file into pandas data frame\n",
    "raw_maildata=pd.read_csv(r\"C:\\Users\\Rgarud\\Desktop\\mail_data.csv\")\n",
    "# and this will load the data from my csv file to raw maildata data frame"
   ]
  },
  {
   "cell_type": "code",
   "execution_count": 4,
   "metadata": {
    "colab": {
     "base_uri": "https://localhost:8080/"
    },
    "id": "munCjnez6oXk",
    "outputId": "59141540-5f87-4e43-9131-7bedaa1f14b3"
   },
   "outputs": [
    {
     "name": "stdout",
     "output_type": "stream",
     "text": [
      "     Category                                            Message\n",
      "0         ham  Go until jurong point, crazy.. Available only ...\n",
      "1         ham                      Ok lar... Joking wif u oni...\n",
      "2        spam  Free entry in 2 a wkly comp to win FA Cup fina...\n",
      "3         ham  U dun say so early hor... U c already then say...\n",
      "4         ham  Nah I don't think he goes to usf, he lives aro...\n",
      "...       ...                                                ...\n",
      "5567     spam  This is the 2nd time we have tried 2 contact u...\n",
      "5568      ham               Will ü b going to esplanade fr home?\n",
      "5569      ham  Pity, * was in mood for that. So...any other s...\n",
      "5570      ham  The guy did some bitching but I acted like i'd...\n",
      "5571      ham                         Rofl. Its true to its name\n",
      "\n",
      "[5572 rows x 2 columns]\n"
     ]
    }
   ],
   "source": [
    "# will just try to print the raw mail data\n",
    "print(raw_maildata)\n",
    "# this data contains two columns \"category and mesaage\"\n",
    "# and this data contains some missing values and null values so we need to convert them into null strings "
   ]
  },
  {
   "cell_type": "code",
   "execution_count": 6,
   "metadata": {
    "id": "q0PJWXQP7AHB"
   },
   "outputs": [],
   "source": [
    "# and this data contains some missing values and null values so we need to convert them into null strings \n",
    "#  null values are the missing values\n",
    "# and that willbe our next part \n",
    "#  so we need to replace the null values with a null string,so this is my next string\n",
    "maildata=raw_maildata.where((pd.notnull(raw_maildata)),'') # \"\" represents empty strings\n",
    "# this \"where\" functions is used to carry out some condition , here it is that null values/missing values  should\n",
    "# should get convert into empty string('')\n",
    "\n",
    "# this ((pd.notnull(raw_maildata)),'') will replace all your null values into null string"
   ]
  },
  {
   "cell_type": "code",
   "execution_count": 7,
   "metadata": {
    "colab": {
     "base_uri": "https://localhost:8080/",
     "height": 206
    },
    "id": "TtInRCGd-Ig8",
    "outputId": "23a2b117-7438-47cc-beb9-979945332359"
   },
   "outputs": [
    {
     "data": {
      "text/html": [
       "<div>\n",
       "<style scoped>\n",
       "    .dataframe tbody tr th:only-of-type {\n",
       "        vertical-align: middle;\n",
       "    }\n",
       "\n",
       "    .dataframe tbody tr th {\n",
       "        vertical-align: top;\n",
       "    }\n",
       "\n",
       "    .dataframe thead th {\n",
       "        text-align: right;\n",
       "    }\n",
       "</style>\n",
       "<table border=\"1\" class=\"dataframe\">\n",
       "  <thead>\n",
       "    <tr style=\"text-align: right;\">\n",
       "      <th></th>\n",
       "      <th>Category</th>\n",
       "      <th>Message</th>\n",
       "    </tr>\n",
       "  </thead>\n",
       "  <tbody>\n",
       "    <tr>\n",
       "      <th>0</th>\n",
       "      <td>ham</td>\n",
       "      <td>Go until jurong point, crazy.. Available only ...</td>\n",
       "    </tr>\n",
       "    <tr>\n",
       "      <th>1</th>\n",
       "      <td>ham</td>\n",
       "      <td>Ok lar... Joking wif u oni...</td>\n",
       "    </tr>\n",
       "    <tr>\n",
       "      <th>2</th>\n",
       "      <td>spam</td>\n",
       "      <td>Free entry in 2 a wkly comp to win FA Cup fina...</td>\n",
       "    </tr>\n",
       "    <tr>\n",
       "      <th>3</th>\n",
       "      <td>ham</td>\n",
       "      <td>U dun say so early hor... U c already then say...</td>\n",
       "    </tr>\n",
       "    <tr>\n",
       "      <th>4</th>\n",
       "      <td>ham</td>\n",
       "      <td>Nah I don't think he goes to usf, he lives aro...</td>\n",
       "    </tr>\n",
       "  </tbody>\n",
       "</table>\n",
       "</div>"
      ],
      "text/plain": [
       "  Category                                            Message\n",
       "0      ham  Go until jurong point, crazy.. Available only ...\n",
       "1      ham                      Ok lar... Joking wif u oni...\n",
       "2     spam  Free entry in 2 a wkly comp to win FA Cup fina...\n",
       "3      ham  U dun say so early hor... U c already then say...\n",
       "4      ham  Nah I don't think he goes to usf, he lives aro..."
      ]
     },
     "execution_count": 7,
     "metadata": {},
     "output_type": "execute_result"
    }
   ],
   "source": [
    "# will try to print the first five rows\n",
    "maildata.head()"
   ]
  },
  {
   "cell_type": "code",
   "execution_count": 8,
   "metadata": {
    "colab": {
     "base_uri": "https://localhost:8080/"
    },
    "id": "tb7Sg5Qh-WRa",
    "outputId": "2d185bc6-fa78-4b4d-aa5f-c102074f48bd"
   },
   "outputs": [
    {
     "data": {
      "text/plain": [
       "(5572, 2)"
      ]
     },
     "execution_count": 8,
     "metadata": {},
     "output_type": "execute_result"
    }
   ],
   "source": [
    "# checking all the numbers of rows and columns in the data frame\n",
    "maildata.shape\n",
    "# when you run this it will you the number of (rows,column)(5572, 2)\n",
    "# 5572 are rows and columns are 2"
   ]
  },
  {
   "cell_type": "markdown",
   "metadata": {
    "id": "pIs48mODAhpe"
   },
   "source": [
    "Label Encoding"
   ]
  },
  {
   "cell_type": "code",
   "execution_count": 9,
   "metadata": {
    "id": "MJ4e9qibAgoa"
   },
   "outputs": [],
   "source": [
    "# now will Label Encoding on the category column where there are only two Values\n",
    "# 1. Spam - 0 spam will be Zero\n",
    "# 2.Ham - 1 Ham will be 1\n",
    "maildata.loc[maildata['Category']=='spam','Category',]=0 \n",
    "# it will convert all spam mail as Zerro(0)\n",
    "maildata.loc[maildata['Category']=='ham','Category',]=1\n",
    "# it will convert all ham mail as 1 "
   ]
  },
  {
   "cell_type": "markdown",
   "metadata": {
    "id": "3DrcoqBOCetz"
   },
   "source": [
    "spam - 0\n",
    "\n",
    "ham - 1"
   ]
  },
  {
   "cell_type": "code",
   "execution_count": 10,
   "metadata": {
    "colab": {
     "base_uri": "https://localhost:8080/"
    },
    "id": "sPWQ0vXrEiRJ",
    "outputId": "644f2cb1-4a19-4648-a728-9a82751de543"
   },
   "outputs": [
    {
     "name": "stdout",
     "output_type": "stream",
     "text": [
      "  Category                                            Message\n",
      "0        1  Go until jurong point, crazy.. Available only ...\n",
      "1        1                      Ok lar... Joking wif u oni...\n",
      "2        0  Free entry in 2 a wkly comp to win FA Cup fina...\n",
      "3        1  U dun say so early hor... U c already then say...\n",
      "4        1  Nah I don't think he goes to usf, he lives aro...\n"
     ]
    }
   ],
   "source": [
    "print(maildata.head())"
   ]
  },
  {
   "cell_type": "code",
   "execution_count": 11,
   "metadata": {
    "id": "AcHTXksWCdxg"
   },
   "outputs": [],
   "source": [
    "# separting the data as text and Labels\n",
    "# text are noything buth messages and labels are nothing but the (spam,ham)\n",
    "# the reason we are doing this because will feed the data and labels separately to your machine learning models  \n",
    "# its like giving X Axis value and Y Axis \n",
    "# X Axis- Text\n",
    "# Y Axis- Labels(whether it is 1 or 0).\n",
    "# we generally input data as Mesaages (and output data as Labels\n",
    "#  input(messages)- X Axis\n",
    "# output(Labels/category)- Y Axis\n",
    "\n",
    "X= maildata['Message']\n",
    "Y= maildata['Category']"
   ]
  },
  {
   "cell_type": "code",
   "execution_count": 12,
   "metadata": {
    "colab": {
     "base_uri": "https://localhost:8080/"
    },
    "id": "gSpCVD3FFmj7",
    "outputId": "f291db06-badc-43ac-9245-68fdd14c33ea"
   },
   "outputs": [
    {
     "name": "stdout",
     "output_type": "stream",
     "text": [
      "printing X values:\n",
      "\n",
      "  0       Go until jurong point, crazy.. Available only ...\n",
      "1                           Ok lar... Joking wif u oni...\n",
      "2       Free entry in 2 a wkly comp to win FA Cup fina...\n",
      "3       U dun say so early hor... U c already then say...\n",
      "4       Nah I don't think he goes to usf, he lives aro...\n",
      "                              ...                        \n",
      "5567    This is the 2nd time we have tried 2 contact u...\n",
      "5568                 Will ü b going to esplanade fr home?\n",
      "5569    Pity, * was in mood for that. So...any other s...\n",
      "5570    The guy did some bitching but I acted like i'd...\n",
      "5571                           Rofl. Its true to its name\n",
      "Name: Message, Length: 5572, dtype: object\n"
     ]
    }
   ],
   "source": [
    "# now, lets try printing all the \"x\" and \"y\" values\n",
    "print(\"printing X values:\\n\\n \",X)"
   ]
  },
  {
   "cell_type": "code",
   "execution_count": 13,
   "metadata": {
    "colab": {
     "base_uri": "https://localhost:8080/"
    },
    "id": "ObhsbFnXFx2P",
    "outputId": "94438793-b535-430a-ce22-ecd81d5b1271"
   },
   "outputs": [
    {
     "name": "stdout",
     "output_type": "stream",
     "text": [
      "0       1\n",
      "1       1\n",
      "2       0\n",
      "3       1\n",
      "4       1\n",
      "       ..\n",
      "5567    0\n",
      "5568    1\n",
      "5569    1\n",
      "5570    1\n",
      "5571    1\n",
      "Name: Category, Length: 5572, dtype: object\n"
     ]
    }
   ],
   "source": [
    "print(Y)"
   ]
  },
  {
   "cell_type": "markdown",
   "metadata": {
    "id": "mWZcpjGrHIKa"
   },
   "source": [
    "splitting data into training data & Testing Data\n",
    "\n",
    "Train_Test_Split"
   ]
  },
  {
   "cell_type": "code",
   "execution_count": 14,
   "metadata": {
    "id": "BXrU-0zhGODy"
   },
   "outputs": [],
   "source": [
    "# now we are going to split this \"X\" and \"Y\" into Trining Data and Testing Data\n",
    "# because one set of data will be used to train our model \n",
    "# and another set of data is used to evaluate to test our model\n",
    "# in order to do this we need to mention four arrays\n",
    "X_train,X_test,Y_train,Y_test=train_test_split(X,Y, test_size=0.2,random_state=3)"
   ]
  },
  {
   "cell_type": "code",
   "execution_count": 15,
   "metadata": {
    "colab": {
     "base_uri": "https://localhost:8080/"
    },
    "id": "ZcP5cmcGKoEU",
    "outputId": "a4eaeead-7889-49a9-eff0-2649790cb878"
   },
   "outputs": [
    {
     "name": "stdout",
     "output_type": "stream",
     "text": [
      "Messages:  (5572,)\n",
      "Training Data:  (4457,)\n",
      "testing Data (1115,)\n"
     ]
    }
   ],
   "source": [
    "print(\"Messages: \",X.shape) # it will display (5572,) because we have mention only one column which is X(messages)\n",
    "print(\"Training Data: \",X_train.shape) # it will display 80% of train data \n",
    "print(\"testing Data\",X_test.shape) # it will display 20% of test data"
   ]
  },
  {
   "cell_type": "code",
   "execution_count": 16,
   "metadata": {
    "colab": {
     "base_uri": "https://localhost:8080/"
    },
    "id": "qa02aWBylQg9",
    "outputId": "658d9bb9-8314-4cbd-aae5-b3241116f59a"
   },
   "outputs": [
    {
     "name": "stdout",
     "output_type": "stream",
     "text": [
      "category:  (5572,)\n",
      "y training data:  (4457,)\n",
      "Y testing data:  (1115,)\n"
     ]
    }
   ],
   "source": [
    "print(\"category: \",Y.shape)\n",
    "print(\"y training data: \",Y_train.shape)\n",
    "print(\"Y testing data: \",Y_test.shape)"
   ]
  },
  {
   "cell_type": "markdown",
   "metadata": {
    "id": "Xx9Ys1MBMLmz"
   },
   "source": [
    "Feature Extraction\n",
    "Coverrting text dat into numerical data \n",
    "\n",
    "in this case there are two types of text data (spam and ham) so there might be some patterns in those twpo data sets like in ham you'll get mostly(free,offer,won) such kind of words and in spam it would be different so this is where feature extraction works like a classifier\n",
    "  \n",
    "Converting text Data (Messages) into Numericals data forms\n",
    "\n",
    "transform the text data to feature vector that can be used as a input to logistic regreesion model"
   ]
  },
  {
   "cell_type": "code",
   "execution_count": 17,
   "metadata": {
    "id": "-0VhbMHoKqei"
   },
   "outputs": [],
   "source": [
    "# NExt part is \n",
    "# transform the text data to feature vector that can be used as a input to logistic regreesion model\n",
    "# we know that vectors are numerical values and we want to convert vectors into numericals values \n",
    "# converting your text data into numerical values and this part is caleed as feature extraction\n",
    "# \n",
    "feature_extraction = TfidfVectorizer(min_df= 1,stop_words = 'english',lowercase='True') # works like a filter\n",
    "# here min_df=1 that means if the words occurs one time then that word will be ignore \n",
    "# stopwords:- in the mail you get words like (is,did,the,they etc) which mostly doesnt make any sense to predict the spam or ham so will ignore that too\n",
    "# lowercase := which is true in this case will covert the text into lower and which help us in much better ways.\n",
    "\n",
    "\n",
    "# feature_extraction= TfidfVectorizer(min_df=1,stop_words='english',lowercase='True')\n",
    "# so the above code will act as a formula \n",
    "# and this formula will going to apply on \"X\" which is nothing our \"messages\" not for the Label/Category which is already in numerical format (1&0)\n",
    "\n",
    "# now converting X_train into numerical values\n",
    "\n",
    "X_train_features = feature_extraction.fit_transform(X_train) #covert the text into numerical values\n",
    "\n",
    "X_test_features = feature_extraction.fit_transform(X_test) \n",
    "\n",
    "# convert Y_train and Y_test values as Integers\n",
    "# the reason to do it is that (0 and 1) shouldn't be consider as \"string\" and object  it would be consider as \"integer\"\n",
    "Y_train = Y_train.astype('int')\n",
    "Y_test= Y_test.astype('int')\n"
   ]
  },
  {
   "cell_type": "code",
   "execution_count": 18,
   "metadata": {
    "colab": {
     "base_uri": "https://localhost:8080/"
    },
    "id": "WBvgmNOlNE0T",
    "outputId": "ccbc680a-5f83-4944-e97a-ede99a518ee1"
   },
   "outputs": [
    {
     "name": "stdout",
     "output_type": "stream",
     "text": [
      "  (0, 5413)\t0.6198254967574347\n",
      "  (0, 4456)\t0.4168658090846482\n",
      "  (0, 2224)\t0.413103377943378\n",
      "  (0, 3811)\t0.34780165336891333\n",
      "  (0, 2329)\t0.38783870336935383\n",
      "  (1, 4080)\t0.18880584110891163\n",
      "  (1, 3185)\t0.29694482957694585\n",
      "  (1, 3325)\t0.31610586766078863\n",
      "  (1, 2957)\t0.3398297002864083\n",
      "  (1, 2746)\t0.3398297002864083\n",
      "  (1, 918)\t0.22871581159877646\n",
      "  (1, 1839)\t0.2784903590561455\n",
      "  (1, 2758)\t0.3226407885943799\n",
      "  (1, 2956)\t0.33036995955537024\n",
      "  (1, 1991)\t0.33036995955537024\n",
      "  (1, 3046)\t0.2503712792613518\n",
      "  (1, 3811)\t0.17419952275504033\n",
      "  (2, 407)\t0.509272536051008\n",
      "  (2, 3156)\t0.4107239318312698\n",
      "  (2, 2404)\t0.45287711070606745\n",
      "  (2, 6601)\t0.6056811524587518\n",
      "  (3, 2870)\t0.5864269879324768\n",
      "  (3, 7414)\t0.8100020912469564\n",
      "  (4, 50)\t0.23633754072626942\n",
      "  (4, 5497)\t0.15743785051118356\n",
      "  :\t:\n",
      "  (4454, 4602)\t0.2669765732445391\n",
      "  (4454, 3142)\t0.32014451677763156\n",
      "  (4455, 2247)\t0.37052851863170466\n",
      "  (4455, 2469)\t0.35441545511837946\n",
      "  (4455, 5646)\t0.33545678464631296\n",
      "  (4455, 6810)\t0.29731757715898277\n",
      "  (4455, 6091)\t0.23103841516927642\n",
      "  (4455, 7113)\t0.30536590342067704\n",
      "  (4455, 3872)\t0.3108911491788658\n",
      "  (4455, 4715)\t0.30714144758811196\n",
      "  (4455, 6916)\t0.19636985317119715\n",
      "  (4455, 3922)\t0.31287563163368587\n",
      "  (4455, 4456)\t0.24920025316220423\n",
      "  (4456, 141)\t0.292943737785358\n",
      "  (4456, 647)\t0.30133182431707617\n",
      "  (4456, 6311)\t0.30133182431707617\n",
      "  (4456, 5569)\t0.4619395404299172\n",
      "  (4456, 6028)\t0.21034888000987115\n",
      "  (4456, 7154)\t0.24083218452280053\n",
      "  (4456, 7150)\t0.3677554681447669\n",
      "  (4456, 6249)\t0.17573831794959716\n",
      "  (4456, 6307)\t0.2752760476857975\n",
      "  (4456, 334)\t0.2220077711654938\n",
      "  (4456, 5778)\t0.16243064490100795\n",
      "  (4456, 2870)\t0.31523196273113385\n"
     ]
    }
   ],
   "source": [
    "print(X_train_features)"
   ]
  },
  {
   "cell_type": "code",
   "execution_count": 19,
   "metadata": {
    "colab": {
     "base_uri": "https://localhost:8080/"
    },
    "id": "hepNH4V7Mr4i",
    "outputId": "94a5956d-42ec-4684-f9ee-32b1074493dd"
   },
   "outputs": [
    {
     "name": "stdout",
     "output_type": "stream",
     "text": [
      "(4457, 7431)\n"
     ]
    }
   ],
   "source": [
    "print(X_train_features.shape)"
   ]
  },
  {
   "cell_type": "code",
   "execution_count": 20,
   "metadata": {
    "colab": {
     "base_uri": "https://localhost:8080/"
    },
    "id": "j8ly1rm4ML4D",
    "outputId": "a09eff6d-6317-4922-ebdb-a5142dc2cfb6"
   },
   "outputs": [
    {
     "name": "stdout",
     "output_type": "stream",
     "text": [
      "  (0, 123)\t0.21454496240397508\n",
      "  (0, 602)\t0.27496518403029063\n",
      "  (0, 446)\t0.24056653549202825\n",
      "  (0, 90)\t0.27496518403029063\n",
      "  (0, 2374)\t0.2229220378541843\n",
      "  (0, 461)\t0.24056653549202825\n",
      "  (0, 167)\t0.22793496582991604\n",
      "  (0, 9)\t0.24894361094223744\n",
      "  (0, 12)\t0.23372196647595156\n",
      "  (0, 4)\t0.2597435395640047\n",
      "  (0, 2303)\t0.19462454405004664\n",
      "  (0, 665)\t0.2597435395640047\n",
      "  (0, 582)\t0.23372196647595156\n",
      "  (0, 1)\t0.24056653549202825\n",
      "  (0, 3217)\t0.19247874892161249\n",
      "  (0, 15)\t0.27496518403029063\n",
      "  (0, 1934)\t0.17330174484963604\n",
      "  (0, 3070)\t0.2019133927418629\n",
      "  (1, 1956)\t0.3151825941036615\n",
      "  (1, 1548)\t0.40394441808274295\n",
      "  (1, 2908)\t0.3051274103611202\n",
      "  (1, 2110)\t0.40394441808274295\n",
      "  (1, 2980)\t0.40394441808274295\n",
      "  (1, 3272)\t0.2646484069642073\n",
      "  (1, 2746)\t0.3657167812431158\n",
      "  :\t:\n",
      "  (1111, 3010)\t0.40198995150492556\n",
      "  (1111, 1422)\t0.42477003412755865\n",
      "  (1112, 1067)\t0.34079718857361213\n",
      "  (1112, 2702)\t0.34079718857361213\n",
      "  (1112, 732)\t0.34079718857361213\n",
      "  (1112, 3005)\t0.28967954384408806\n",
      "  (1112, 468)\t0.29816283559574497\n",
      "  (1112, 2529)\t0.28967954384408806\n",
      "  (1112, 1833)\t0.29816283559574497\n",
      "  (1112, 3134)\t0.28250702286694024\n",
      "  (1112, 1011)\t0.22145192786940623\n",
      "  (1112, 2225)\t0.24122143926545364\n",
      "  (1112, 2780)\t0.27629390258890824\n",
      "  (1112, 2566)\t0.20631025612221207\n",
      "  (1113, 1230)\t0.428771570727726\n",
      "  (1113, 1198)\t0.428771570727726\n",
      "  (1113, 1567)\t0.428771570727726\n",
      "  (1113, 1448)\t0.2969798432041589\n",
      "  (1113, 1357)\t0.28330391508527664\n",
      "  (1113, 1775)\t0.28839760382645435\n",
      "  (1113, 1676)\t0.24033699911607986\n",
      "  (1113, 965)\t0.27222559548769554\n",
      "  (1113, 1795)\t0.2548820491114077\n",
      "  (1114, 1773)\t0.8524963606624327\n",
      "  (1114, 2013)\t0.5227331585592283\n"
     ]
    }
   ],
   "source": [
    "print(X_test_features)"
   ]
  },
  {
   "cell_type": "code",
   "execution_count": 21,
   "metadata": {
    "colab": {
     "base_uri": "https://localhost:8080/"
    },
    "id": "_pY6AAZFM7si",
    "outputId": "8a9def3e-12b4-4de7-ff73-b1aa5ab73c17"
   },
   "outputs": [
    {
     "name": "stdout",
     "output_type": "stream",
     "text": [
      "(1115, 3296)\n"
     ]
    }
   ],
   "source": [
    "print(X_test_features.shape)"
   ]
  },
  {
   "cell_type": "code",
   "execution_count": 22,
   "metadata": {
    "colab": {
     "base_uri": "https://localhost:8080/"
    },
    "id": "QffjV--TMS7x",
    "outputId": "6f75cbc3-760d-40aa-fa44-46acf5ddce2a"
   },
   "outputs": [
    {
     "name": "stdout",
     "output_type": "stream",
     "text": [
      "3075    1\n",
      "1787    1\n",
      "1614    1\n",
      "4304    1\n",
      "3266    0\n",
      "       ..\n",
      "789     0\n",
      "968     1\n",
      "1667    1\n",
      "3321    1\n",
      "1688    0\n",
      "Name: Category, Length: 4457, dtype: int32\n"
     ]
    }
   ],
   "source": [
    "print(Y_train)"
   ]
  },
  {
   "cell_type": "markdown",
   "metadata": {
    "id": "KbKVPc2FNe-Q"
   },
   "source": [
    "**End Stages of code**\n",
    "\n",
    "To Train our Logistics Regression Model\n",
    "\n",
    "Training the Logistics Regression Model "
   ]
  },
  {
   "cell_type": "code",
   "execution_count": 23,
   "metadata": {
    "id": "6Sx_W7HfMW2U"
   },
   "outputs": [],
   "source": [
    "model = LogisticRegression()\n",
    "# Now this will load Logistics Regression Model into this particular Variable called \"model\""
   ]
  },
  {
   "cell_type": "code",
   "execution_count": null,
   "metadata": {
    "id": "uaaIQULVOWhe"
   },
   "outputs": [],
   "source": [
    "# now you can fit X_train features and Y_train features in your \"model\""
   ]
  },
  {
   "cell_type": "markdown",
   "metadata": {
    "id": "in0kdwBBO-oN"
   },
   "source": [
    "This Part will be \n",
    "\n",
    "Trainging the Logistic Regression Model with the Training Data"
   ]
  },
  {
   "cell_type": "code",
   "execution_count": 24,
   "metadata": {
    "colab": {
     "base_uri": "https://localhost:8080/"
    },
    "id": "A3LXq8rkOwXC",
    "outputId": "2dc9fb2d-f9d1-4c20-970f-a7a33d96b70b"
   },
   "outputs": [
    {
     "data": {
      "text/plain": [
       "LogisticRegression()"
      ]
     },
     "execution_count": 24,
     "metadata": {},
     "output_type": "execute_result"
    }
   ],
   "source": [
    "# fit function will take two values of  X Axis and Y Axis \n",
    "# Where X-Axis is nothing but X_train_feature\n",
    "# Y-Axis is Y_train\n",
    "model.fit(X_train_features,Y_train)\n",
    "# once you run this your logistics regression Model will be trained \n",
    "# so,now if you give new mail it will tell you whether the mail is Spam mail or Ham mail\n",
    "# So,before going towards the predictive sysytem , we have to evaluate our model. \n",
    "# So , we need to check how many good/correct prediction our model is making and that is our next part:\n",
    " "
   ]
  },
  {
   "cell_type": "markdown",
   "metadata": {
    "id": "pfNHUN9MRezF"
   },
   "source": [
    "# so,now if you give new mail it will tell you whether the mail is Spam mail or Ham mail\n",
    "# So,before going towards the predictive sysytem , we have to evaluate our model. \n",
    "# So , we need to check how many good/correct prediction our model is making and that is our next part:\n",
    "\n",
    "Evaluate the trained Model"
   ]
  },
  {
   "cell_type": "code",
   "execution_count": 25,
   "metadata": {
    "colab": {
     "base_uri": "https://localhost:8080/"
    },
    "id": "ToA32Ai6P1U0",
    "outputId": "bfb40083-b2e1-4ba2-a07a-acec4b21259a"
   },
   "outputs": [
    {
     "name": "stdout",
     "output_type": "stream",
     "text": [
      "[1 1 1 ... 1 1 0]\n",
      "(4457,)\n",
      "spam:  453 Ham:  4004\n"
     ]
    }
   ],
   "source": [
    "#  first im going to predict on Trained Data\n",
    "# prediction on Training data \n",
    "#  So Basically what we are doing is we have used X_train_features and Y_train to train our Logistics Regression Model \n",
    "# what we are going to do is , As our model is trained I'm going to give this X_trian_features and im going to ask my model to predict the Y_train values\n",
    "#  so im going to give all the mails and im going to ask my model whether its a spam mail or ham mail\n",
    "# basically tring to predict their values are one or Zero (1 or 0)\n",
    "# \n",
    "prediction_on_training_data= model.predict(X_train_features)  \n",
    "print(prediction_on_training_data)\n",
    "spam=0\n",
    "ham=0\n",
    "for i in prediction_on_training_data:\n",
    "  if i==0:\n",
    "    spam+=1\n",
    "  else:\n",
    "    ham+=1\n",
    "print(prediction_on_training_data.shape)\n",
    "print(\"spam: \",spam,\"Ham: \",ham)\n",
    "\n",
    "\n",
    "\n",
    "# as you can see the syntax consist the prediction for \"X_train_feature\", where as  you can see \"Y_train\" is not Given \n",
    "# this model will make predictioon on  \"X_train_features\" and the values predicted by our model will be stored in \"prediction_on_training_data\"\n",
    "# and the true values are nothing but \"Y_train\" so we need to compare \"prediction_on_training_data\" and \"Y_train\"\n",
    "# So, need to check the accuracy \n",
    "accuracy_on_training_data= accuracy_score(Y_train,prediction_on_training_data)\n",
    "# the above syntax consist of 2 parameters (True value - Y_train and Predicted value - prediction_on_training_data)\n"
   ]
  },
  {
   "cell_type": "code",
   "execution_count": 27,
   "metadata": {
    "colab": {
     "base_uri": "https://localhost:8080/"
    },
    "id": "Yjb1xct-WtX9",
    "outputId": "c42693d5-1f12-45e7-9275-1b2c6eae3382"
   },
   "outputs": [
    {
     "name": "stdout",
     "output_type": "stream",
     "text": [
      "Accuracy Score On training Data :  0.9670181736594121\n"
     ]
    }
   ],
   "source": [
    "# lets find out the Accuracy Score \n",
    "print(\"Accuracy Score On training Data : \",accuracy_on_training_data)"
   ]
  },
  {
   "cell_type": "code",
   "execution_count": null,
   "metadata": {
    "id": "pDXANVjPW-OB"
   },
   "outputs": [],
   "source": [
    "# so the accuracy is noth but 0.96 which represent 96 percentage that means out of 100 predictions \n",
    "#  so you use your model to predict 100 different mails , it will give you correct value for 96 mails\n",
    "#  so that is your accuracy value 0.96 which is 96% \n",
    "# for eg: 0.8 = 80 percentage\n",
    "          # 0.75= 75 percentange\n",
    "# if you get accuracy score more than 75 percentage that means our model is working great "
   ]
  },
  {
   "cell_type": "markdown",
   "metadata": {
    "id": "chNt5ep2ZHZm"
   },
   "source": [
    "So, same prediction will make on Testing data"
   ]
  },
  {
   "cell_type": "code",
   "execution_count": 29,
   "metadata": {
    "colab": {
     "base_uri": "https://localhost:8080/"
    },
    "id": "n1qUxy_2ZMsf",
    "outputId": "f33f060a-c63a-4a2b-fed3-86a54f5ac15e"
   },
   "outputs": [
    {
     "name": "stdout",
     "output_type": "stream",
     "text": [
      "[1 1 1 ... 1 1 0]\n",
      "(1115,)\n",
      "spam:  65 Ham:  1050\n"
     ]
    }
   ],
   "source": [
    "# so, basically im repeating the same thing, only the difference is we are using X_test_features,\n",
    "#  and its predicted value will go into prediction_on_test_data\n",
    "# and then will compare it with \"Y_test\" value and ceheck the accuracy of it, that how good/correct prediction is it making\n",
    "model.fit(X_test_features,Y_test)\n",
    "prediction_on_test_data = model.predict(X_test_features)\n",
    "print(prediction_on_training_data)\n",
    "spam=0\n",
    "ham=0\n",
    "for i in prediction_on_test_data:\n",
    "    if i==0:\n",
    "        spam+=1\n",
    "    else:\n",
    "        ham+=1\n",
    "print(prediction_on_test_data.shape)\n",
    "print(\"spam: \",spam,\"Ham: \",ham)\n",
    "accuracy_on_test_data= accuracy_score(Y_test,prediction_on_test_data)"
   ]
  },
  {
   "cell_type": "code",
   "execution_count": 30,
   "metadata": {
    "colab": {
     "base_uri": "https://localhost:8080/"
    },
    "id": "nkjj13t0a28h",
    "outputId": "e9bbd112-d8de-4d2a-bb90-b4b667f8ef3e"
   },
   "outputs": [
    {
     "name": "stdout",
     "output_type": "stream",
     "text": [
      "accuracy_on_testing_data :  0.9192825112107623\n"
     ]
    }
   ],
   "source": [
    "# So lets try to print the accuracy of testing Data\n",
    "print(\"accuracy_on_testing_data : \",accuracy_on_test_data)"
   ]
  },
  {
   "cell_type": "code",
   "execution_count": null,
   "metadata": {
    "id": "OncoriPQceAl"
   },
   "outputs": [],
   "source": [
    "# if there a huge difference in accuracy score of testing data as compare to training that may happen because of over fitted \n",
    "# but here in our case its not the problem , the model is working great where the accuracy score for testing data is 91 percentage\n"
   ]
  },
  {
   "cell_type": "markdown",
   "metadata": {
    "id": "slc75SZBd-8D"
   },
   "source": [
    "now we are in the final part of our code to build the Predictive System,\n",
    "So what will we do is , if the user type a new mail, the logistics regression model will predicts the mail if its is Spam mail or Ham Mail.\n",
    "\n",
    "So what it basically does is it will try to predict this Zero or One Value \n",
    "\n",
    "so if you give a new mail, it will try to predict the label/Categorey if its Zero or one (Spam or Ham) and this \"Building Predictive System\"\n",
    "\n",
    "Building Predictive System"
   ]
  },
  {
   "cell_type": "code",
   "execution_count": 31,
   "metadata": {
    "colab": {
     "base_uri": "https://localhost:8080/"
    },
    "id": "6GoHGqrACzG9",
    "outputId": "42eed7a3-64a1-4f2a-a761-37231d0c5c8e"
   },
   "outputs": [
    {
     "name": "stdout",
     "output_type": "stream",
     "text": [
      "<class 'pandas.core.series.Series'>\n",
      "0       Go until jurong point, crazy.. Available only ...\n",
      "1                           Ok lar... Joking wif u oni...\n",
      "2       Free entry in 2 a wkly comp to win FA Cup fina...\n",
      "3       U dun say so early hor... U c already then say...\n",
      "4       Nah I don't think he goes to usf, he lives aro...\n",
      "                              ...                        \n",
      "5567    This is the 2nd time we have tried 2 contact u...\n",
      "5568                 Will ü b going to esplanade fr home?\n",
      "5569    Pity, * was in mood for that. So...any other s...\n",
      "5570    The guy did some bitching but I acted like i'd...\n",
      "5571                           Rofl. Its true to its name\n",
      "Name: Message, Length: 5572, dtype: object\n"
     ]
    }
   ],
   "source": [
    "print(type(X))\n",
    "print(X)"
   ]
  },
  {
   "cell_type": "code",
   "execution_count": 32,
   "metadata": {
    "colab": {
     "base_uri": "https://localhost:8080/"
    },
    "id": "EQbELl-PeZrt",
    "outputId": "9171ca35-2f3f-42a7-b27f-e0e6f61307ce"
   },
   "outputs": [
    {
     "name": "stdout",
     "output_type": "stream",
     "text": [
      "<class 'scipy.sparse.csr.csr_matrix'>\n",
      "[0 1]\n",
      "<class 'numpy.ndarray'>\n",
      "Spam Mail\n"
     ]
    }
   ],
   "source": [
    "# Building a Predictive System\n",
    "# import random\n",
    "# input_mail=random.choice(X)\n",
    "input_mail=[\"SIX chances to win CASH! From 100 to 20,000 pounds txt> CSH11 and send to 87575. Cost 150p/day, 6days, 16+ TsandCs apply Reply HL 4 info\",\"I've been searching for the right words to thank you for this breather. I promise i wont take your help for granted and will fulfil my promise. You have been wonderful and a blessing at all times.\"]\n",
    "# conevrt this input mail  into numerical values\n",
    "input_data_features= feature_extraction.transform(input_mail)\n",
    "print(type(input_data_features))\n",
    "\n",
    "# next part is making prediction\n",
    "prediction = model.predict(input_data_features)\n",
    "# going to predict the prediction value\n",
    "print(prediction)\n",
    "print(type(prediction))\n",
    "if (prediction[0]==1):\n",
    "  print(\"Ham mail\")\n",
    "else:\n",
    "  print(\"Spam Mail\")\n"
   ]
  },
  {
   "cell_type": "code",
   "execution_count": null,
   "metadata": {
    "id": "KqzRInnr95-n"
   },
   "outputs": [],
   "source": []
  }
 ],
 "metadata": {
  "colab": {
   "collapsed_sections": [],
   "name": "emailpredict.ipynb",
   "provenance": []
  },
  "kernelspec": {
   "display_name": "Python 3 (ipykernel)",
   "language": "python",
   "name": "python3"
  },
  "language_info": {
   "codemirror_mode": {
    "name": "ipython",
    "version": 3
   },
   "file_extension": ".py",
   "mimetype": "text/x-python",
   "name": "python",
   "nbconvert_exporter": "python",
   "pygments_lexer": "ipython3",
   "version": "3.9.13"
  }
 },
 "nbformat": 4,
 "nbformat_minor": 1
}
